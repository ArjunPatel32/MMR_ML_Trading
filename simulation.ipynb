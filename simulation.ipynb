{
 "cells": [
  {
   "cell_type": "markdown",
   "metadata": {},
   "source": [
    "# Simulations\n",
    " - For mass testing strategy on random stocks"
   ]
  },
  {
   "cell_type": "markdown",
   "metadata": {},
   "source": [
    "### Imports"
   ]
  },
  {
   "cell_type": "code",
   "execution_count": 1,
   "metadata": {},
   "outputs": [],
   "source": [
    "import numpy as np\n",
    "\n",
    "from functions.data_collection import get_current_sp500_ticker_sample, get_historical_data, get_sp500_data_in_date_range\n",
    "from functions.computing import compute_momentum, compute_mean_reversion, compute_signal_returns\n",
    "from functions.signals import generate_signals_momentum, generate_signals_meanreversion, generate_final_signal\n",
    "from functions.trading import build_strategy_choice_label, build_feature_matrix, track_strategy_chosen_signals\n",
    "from functions.training import train_strategy_chooser\n",
    "from functions.risk_management import apply_stop_loss\n",
    "\n",
    "import warnings\n",
    "warnings.filterwarnings(\"ignore\")"
   ]
  },
  {
   "cell_type": "markdown",
   "metadata": {},
   "source": [
    "## Sim 1\n",
    "- running bunch of simulations on randomly chosen S&P companies"
   ]
  },
  {
   "cell_type": "markdown",
   "metadata": {},
   "source": [
    "### Parameters"
   ]
  },
  {
   "cell_type": "code",
   "execution_count": 3,
   "metadata": {},
   "outputs": [],
   "source": [
    "# PARAMETERS\n",
    "n_simulations = 10      # Run different random samples\n",
    "sample_size = 15        # Number of stocks to sample (excluding SPY)\n",
    "start_date = \"2015-01-01\"\n",
    "end_date = \"2025-01-01\"\n",
    "initial_capital = 10000.0"
   ]
  },
  {
   "cell_type": "markdown",
   "metadata": {},
   "source": [
    "### Running Sims"
   ]
  },
  {
   "cell_type": "code",
   "execution_count": 4,
   "metadata": {},
   "outputs": [
    {
     "name": "stdout",
     "output_type": "stream",
     "text": [
      "\n",
      "--- Running Simulation 1 of 10 ---\n"
     ]
    },
    {
     "name": "stderr",
     "output_type": "stream",
     "text": [
      "[*********************100%***********************]  1 of 1 completed\n",
      "[*********************100%***********************]  1 of 1 completed\n",
      "[*********************100%***********************]  1 of 1 completed\n",
      "[*********************100%***********************]  1 of 1 completed\n",
      "[*********************100%***********************]  1 of 1 completed\n",
      "[*********************100%***********************]  1 of 1 completed\n",
      "[*********************100%***********************]  1 of 1 completed\n",
      "[*********************100%***********************]  1 of 1 completed\n",
      "[*********************100%***********************]  1 of 1 completed\n",
      "[*********************100%***********************]  1 of 1 completed\n",
      "[*********************100%***********************]  1 of 1 completed\n",
      "[*********************100%***********************]  1 of 1 completed\n",
      "[*********************100%***********************]  1 of 1 completed\n",
      "[*********************100%***********************]  1 of 1 completed\n",
      "[*********************100%***********************]  1 of 1 completed\n",
      "[*********************100%***********************]  1 of 1 completed\n"
     ]
    },
    {
     "name": "stdout",
     "output_type": "stream",
     "text": [
      "Best Params: {'max_depth': 3, 'min_samples_split': 2, 'n_estimators': 100}\n",
      "Best CV Score: 0.49183673469387756\n",
      "Simulation 1 final values (Date: 2024-12-31):\n",
      "  ML Strategy:           $52,856.21\n",
      "  SPY Buy & Hold:        $33,957.37\n",
      "  Equal Weight Buy & Hold: $29,971.64\n",
      "\n",
      "--- Running Simulation 2 of 10 ---\n"
     ]
    },
    {
     "name": "stderr",
     "output_type": "stream",
     "text": [
      "[*********************100%***********************]  1 of 1 completed\n",
      "[*********************100%***********************]  1 of 1 completed\n",
      "[*********************100%***********************]  1 of 1 completed\n",
      "[*********************100%***********************]  1 of 1 completed\n",
      "[*********************100%***********************]  1 of 1 completed\n",
      "[*********************100%***********************]  1 of 1 completed\n",
      "[*********************100%***********************]  1 of 1 completed\n",
      "[*********************100%***********************]  1 of 1 completed\n",
      "[*********************100%***********************]  1 of 1 completed\n",
      "[*********************100%***********************]  1 of 1 completed\n",
      "[*********************100%***********************]  1 of 1 completed\n",
      "[*********************100%***********************]  1 of 1 completed\n",
      "[*********************100%***********************]  1 of 1 completed\n",
      "[*********************100%***********************]  1 of 1 completed\n",
      "[*********************100%***********************]  1 of 1 completed\n",
      "[*********************100%***********************]  1 of 1 completed\n"
     ]
    },
    {
     "name": "stdout",
     "output_type": "stream",
     "text": [
      "Best Params: {'max_depth': 3, 'min_samples_split': 5, 'n_estimators': 100}\n",
      "Best CV Score: 0.5015306122448979\n",
      "Simulation 2 final values (Date: 2024-12-31):\n",
      "  ML Strategy:           $26,206.13\n",
      "  SPY Buy & Hold:        $33,957.37\n",
      "  Equal Weight Buy & Hold: $41,947.88\n",
      "\n",
      "--- Running Simulation 3 of 10 ---\n"
     ]
    },
    {
     "name": "stderr",
     "output_type": "stream",
     "text": [
      "[*********************100%***********************]  1 of 1 completed\n",
      "[*********************100%***********************]  1 of 1 completed\n",
      "[*********************100%***********************]  1 of 1 completed\n",
      "[*********************100%***********************]  1 of 1 completed\n",
      "[*********************100%***********************]  1 of 1 completed\n",
      "[*********************100%***********************]  1 of 1 completed\n",
      "[*********************100%***********************]  1 of 1 completed\n",
      "[*********************100%***********************]  1 of 1 completed\n",
      "[*********************100%***********************]  1 of 1 completed\n",
      "[*********************100%***********************]  1 of 1 completed\n",
      "[*********************100%***********************]  1 of 1 completed\n",
      "[*********************100%***********************]  1 of 1 completed\n",
      "[*********************100%***********************]  1 of 1 completed\n",
      "[*********************100%***********************]  1 of 1 completed\n",
      "[*********************100%***********************]  1 of 1 completed\n",
      "[*********************100%***********************]  1 of 1 completed\n"
     ]
    },
    {
     "name": "stdout",
     "output_type": "stream",
     "text": [
      "Best Params: {'max_depth': None, 'min_samples_split': 2, 'n_estimators': 50}\n",
      "Best CV Score: 0.5066326530612245\n",
      "Simulation 3 final values (Date: 2024-12-31):\n",
      "  ML Strategy:           $14,199,812.76\n",
      "  SPY Buy & Hold:        $33,957.37\n",
      "  Equal Weight Buy & Hold: $36,743.50\n",
      "\n",
      "--- Running Simulation 4 of 10 ---\n"
     ]
    },
    {
     "name": "stderr",
     "output_type": "stream",
     "text": [
      "[*********************100%***********************]  1 of 1 completed\n",
      "[*********************100%***********************]  1 of 1 completed\n",
      "[*********************100%***********************]  1 of 1 completed\n",
      "[*********************100%***********************]  1 of 1 completed\n",
      "[*********************100%***********************]  1 of 1 completed\n",
      "[*********************100%***********************]  1 of 1 completed\n",
      "[*********************100%***********************]  1 of 1 completed\n",
      "[*********************100%***********************]  1 of 1 completed\n",
      "[*********************100%***********************]  1 of 1 completed\n",
      "[*********************100%***********************]  1 of 1 completed\n",
      "[*********************100%***********************]  1 of 1 completed\n",
      "[*********************100%***********************]  1 of 1 completed\n",
      "[*********************100%***********************]  1 of 1 completed\n",
      "[*********************100%***********************]  1 of 1 completed\n",
      "[*********************100%***********************]  1 of 1 completed\n",
      "[*********************100%***********************]  1 of 1 completed\n"
     ]
    },
    {
     "name": "stdout",
     "output_type": "stream",
     "text": [
      "Best Params: {'max_depth': None, 'min_samples_split': 5, 'n_estimators': 50}\n",
      "Best CV Score: 0.5061224489795918\n"
     ]
    },
    {
     "name": "stderr",
     "output_type": "stream",
     "text": [
      "[*********************100%***********************]  1 of 1 completed"
     ]
    },
    {
     "name": "stdout",
     "output_type": "stream",
     "text": [
      "Simulation 4 final values (Date: 2024-12-31):\n",
      "  ML Strategy:           $23,698,728.71\n",
      "  SPY Buy & Hold:        $33,957.37\n",
      "  Equal Weight Buy & Hold: $38,056.63\n",
      "\n",
      "--- Running Simulation 5 of 10 ---\n"
     ]
    },
    {
     "name": "stderr",
     "output_type": "stream",
     "text": [
      "\n",
      "[*********************100%***********************]  1 of 1 completed\n",
      "[*********************100%***********************]  1 of 1 completed\n",
      "[*********************100%***********************]  1 of 1 completed\n",
      "[*********************100%***********************]  1 of 1 completed\n",
      "[*********************100%***********************]  1 of 1 completed\n",
      "[*********************100%***********************]  1 of 1 completed\n",
      "[*********************100%***********************]  1 of 1 completed\n",
      "[*********************100%***********************]  1 of 1 completed\n",
      "[*********************100%***********************]  1 of 1 completed\n",
      "[*********************100%***********************]  1 of 1 completed\n",
      "[*********************100%***********************]  1 of 1 completed\n",
      "[*********************100%***********************]  1 of 1 completed\n",
      "[*********************100%***********************]  1 of 1 completed\n",
      "[*********************100%***********************]  1 of 1 completed\n",
      "[*********************100%***********************]  1 of 1 completed\n"
     ]
    },
    {
     "name": "stdout",
     "output_type": "stream",
     "text": [
      "Best Params: {'max_depth': 5, 'min_samples_split': 5, 'n_estimators': 50}\n",
      "Best CV Score: 0.5239795918367347\n"
     ]
    },
    {
     "name": "stderr",
     "output_type": "stream",
     "text": [
      "[*********************100%***********************]  1 of 1 completed"
     ]
    },
    {
     "name": "stdout",
     "output_type": "stream",
     "text": [
      "Simulation 5 final values (Date: 2024-12-31):\n",
      "  ML Strategy:           $202,051.66\n",
      "  SPY Buy & Hold:        $33,957.37\n",
      "  Equal Weight Buy & Hold: $36,755.50\n",
      "\n",
      "--- Running Simulation 6 of 10 ---\n"
     ]
    },
    {
     "name": "stderr",
     "output_type": "stream",
     "text": [
      "\n",
      "[*********************100%***********************]  1 of 1 completed\n",
      "[*********************100%***********************]  1 of 1 completed\n",
      "[*********************100%***********************]  1 of 1 completed\n",
      "[*********************100%***********************]  1 of 1 completed\n",
      "[*********************100%***********************]  1 of 1 completed\n",
      "[*********************100%***********************]  1 of 1 completed\n",
      "[*********************100%***********************]  1 of 1 completed\n",
      "[*********************100%***********************]  1 of 1 completed\n",
      "[*********************100%***********************]  1 of 1 completed\n",
      "[*********************100%***********************]  1 of 1 completed\n",
      "[*********************100%***********************]  1 of 1 completed\n",
      "[*********************100%***********************]  1 of 1 completed\n",
      "[*********************100%***********************]  1 of 1 completed\n",
      "[*********************100%***********************]  1 of 1 completed\n",
      "[*********************100%***********************]  1 of 1 completed\n"
     ]
    },
    {
     "name": "stdout",
     "output_type": "stream",
     "text": [
      "Best Params: {'max_depth': 5, 'min_samples_split': 5, 'n_estimators': 50}\n",
      "Best CV Score: 0.5265306122448979\n"
     ]
    },
    {
     "name": "stderr",
     "output_type": "stream",
     "text": [
      "[*********************100%***********************]  1 of 1 completed"
     ]
    },
    {
     "name": "stdout",
     "output_type": "stream",
     "text": [
      "Simulation 6 final values (Date: 2024-12-31):\n",
      "  ML Strategy:           $136,726.64\n",
      "  SPY Buy & Hold:        $33,957.37\n",
      "  Equal Weight Buy & Hold: $41,645.96\n",
      "\n",
      "--- Running Simulation 7 of 10 ---\n"
     ]
    },
    {
     "name": "stderr",
     "output_type": "stream",
     "text": [
      "\n",
      "[*********************100%***********************]  1 of 1 completed\n",
      "[*********************100%***********************]  1 of 1 completed\n",
      "[*********************100%***********************]  1 of 1 completed\n",
      "[*********************100%***********************]  1 of 1 completed\n",
      "[*********************100%***********************]  1 of 1 completed\n",
      "[*********************100%***********************]  1 of 1 completed\n",
      "[*********************100%***********************]  1 of 1 completed\n",
      "[*********************100%***********************]  1 of 1 completed\n",
      "[*********************100%***********************]  1 of 1 completed\n",
      "[*********************100%***********************]  1 of 1 completed\n",
      "[*********************100%***********************]  1 of 1 completed\n",
      "[*********************100%***********************]  1 of 1 completed\n",
      "[*********************100%***********************]  1 of 1 completed\n",
      "[*********************100%***********************]  1 of 1 completed\n",
      "[*********************100%***********************]  1 of 1 completed\n"
     ]
    },
    {
     "name": "stdout",
     "output_type": "stream",
     "text": [
      "Best Params: {'max_depth': None, 'min_samples_split': 2, 'n_estimators': 50}\n",
      "Best CV Score: 0.4959183673469387\n",
      "Simulation 7 final values (Date: 2024-12-31):\n",
      "  ML Strategy:           $15,810,855.77\n",
      "  SPY Buy & Hold:        $33,957.37\n",
      "  Equal Weight Buy & Hold: $41,920.60\n",
      "\n",
      "--- Running Simulation 8 of 10 ---\n"
     ]
    },
    {
     "name": "stderr",
     "output_type": "stream",
     "text": [
      "[*********************100%***********************]  1 of 1 completed\n",
      "[*********************100%***********************]  1 of 1 completed\n",
      "[*********************100%***********************]  1 of 1 completed\n",
      "[*********************100%***********************]  1 of 1 completed\n",
      "[*********************100%***********************]  1 of 1 completed\n",
      "[*********************100%***********************]  1 of 1 completed\n",
      "[*********************100%***********************]  1 of 1 completed\n",
      "[*********************100%***********************]  1 of 1 completed\n",
      "[*********************100%***********************]  1 of 1 completed\n",
      "[*********************100%***********************]  1 of 1 completed\n",
      "[*********************100%***********************]  1 of 1 completed\n",
      "[*********************100%***********************]  1 of 1 completed\n",
      "[*********************100%***********************]  1 of 1 completed\n",
      "[*********************100%***********************]  1 of 1 completed\n",
      "[*********************100%***********************]  1 of 1 completed\n",
      "[*********************100%***********************]  1 of 1 completed\n"
     ]
    },
    {
     "name": "stdout",
     "output_type": "stream",
     "text": [
      "Best Params: {'max_depth': 5, 'min_samples_split': 2, 'n_estimators': 100}\n",
      "Best CV Score: 0.5209183673469387\n"
     ]
    },
    {
     "name": "stderr",
     "output_type": "stream",
     "text": [
      "[*********************100%***********************]  1 of 1 completed"
     ]
    },
    {
     "name": "stdout",
     "output_type": "stream",
     "text": [
      "Simulation 8 final values (Date: 2024-12-31):\n",
      "  ML Strategy:           $91,142.47\n",
      "  SPY Buy & Hold:        $33,957.37\n",
      "  Equal Weight Buy & Hold: $42,041.49\n",
      "\n",
      "--- Running Simulation 9 of 10 ---\n"
     ]
    },
    {
     "name": "stderr",
     "output_type": "stream",
     "text": [
      "\n",
      "[*********************100%***********************]  1 of 1 completed\n",
      "[*********************100%***********************]  1 of 1 completed\n",
      "[*********************100%***********************]  1 of 1 completed\n",
      "[*********************100%***********************]  1 of 1 completed\n",
      "[*********************100%***********************]  1 of 1 completed\n",
      "[*********************100%***********************]  1 of 1 completed\n",
      "[*********************100%***********************]  1 of 1 completed\n",
      "[*********************100%***********************]  1 of 1 completed\n",
      "[*********************100%***********************]  1 of 1 completed\n",
      "[*********************100%***********************]  1 of 1 completed\n",
      "[*********************100%***********************]  1 of 1 completed\n",
      "[*********************100%***********************]  1 of 1 completed\n",
      "[*********************100%***********************]  1 of 1 completed\n",
      "[*********************100%***********************]  1 of 1 completed\n",
      "[*********************100%***********************]  1 of 1 completed\n"
     ]
    },
    {
     "name": "stdout",
     "output_type": "stream",
     "text": [
      "Best Params: {'max_depth': None, 'min_samples_split': 2, 'n_estimators': 100}\n",
      "Best CV Score: 0.5301020408163265\n",
      "Simulation 9 final values (Date: 2024-12-31):\n",
      "  ML Strategy:           $12,801,151.27\n",
      "  SPY Buy & Hold:        $33,957.37\n",
      "  Equal Weight Buy & Hold: $40,660.87\n",
      "\n",
      "--- Running Simulation 10 of 10 ---\n"
     ]
    },
    {
     "name": "stderr",
     "output_type": "stream",
     "text": [
      "[*********************100%***********************]  1 of 1 completed\n",
      "[*********************100%***********************]  1 of 1 completed\n",
      "[*********************100%***********************]  1 of 1 completed\n",
      "[*********************100%***********************]  1 of 1 completed\n",
      "[*********************100%***********************]  1 of 1 completed\n",
      "[*********************100%***********************]  1 of 1 completed\n",
      "[*********************100%***********************]  1 of 1 completed\n",
      "[*********************100%***********************]  1 of 1 completed\n",
      "[*********************100%***********************]  1 of 1 completed\n",
      "[*********************100%***********************]  1 of 1 completed\n",
      "[*********************100%***********************]  1 of 1 completed\n",
      "[*********************100%***********************]  1 of 1 completed\n",
      "[*********************100%***********************]  1 of 1 completed\n",
      "[*********************100%***********************]  1 of 1 completed\n",
      "[*********************100%***********************]  1 of 1 completed\n",
      "[*********************100%***********************]  1 of 1 completed\n"
     ]
    },
    {
     "name": "stdout",
     "output_type": "stream",
     "text": [
      "Best Params: {'max_depth': None, 'min_samples_split': 5, 'n_estimators': 50}\n",
      "Best CV Score: 0.5035714285714286\n",
      "Simulation 10 final values (Date: 2024-12-31):\n",
      "  ML Strategy:           $6,855,093.99\n",
      "  SPY Buy & Hold:        $33,957.37\n",
      "  Equal Weight Buy & Hold: $28,685.95\n",
      "\n",
      "============================================\n",
      "Final Portfolio Statistics (over simulations):\n",
      "  SPY Buy & Hold:                    $33,957.37\n",
      "\n",
      "  Equal Weight Buy & Hold - Average: $37,843.00\n",
      "  Equal Weight Buy & Hold - Median:  $39,358.75\n",
      "\n",
      "  ML Strategy - Average:             $7,387,462.56\n",
      "  ML Strategy - Median:              $3,528,572.83\n",
      "  ML Strategy - Max:                 $23,698,728.71\n",
      "  ML Strategy - Min:                 $26,206.13\n",
      "============================================\n",
      "\n"
     ]
    }
   ],
   "source": [
    "# Containers for final portfolio values (from the last date in each simulation)\n",
    "final_strategy_values = []\n",
    "final_spy_values = []\n",
    "final_equal_values = []\n",
    "\n",
    "for sim in range(n_simulations):\n",
    "    print(f\"\\n--- Running Simulation {sim+1} of {n_simulations} ---\")\n",
    "    # Get a random sample of S&P 500 tickers\n",
    "    tickers = get_current_sp500_ticker_sample(n=sample_size)\n",
    "    # Always add SPY as benchmark\n",
    "    if \"SPY\" not in tickers:\n",
    "        tickers.append(\"SPY\")\n",
    "    \n",
    "    # Download historical data for the chosen tickers\n",
    "    data = get_historical_data(tickers, start=start_date, end=end_date)\n",
    "    data = data.loc[start_date:end_date].dropna(axis=1, how='any')\n",
    "    if data.empty or data.shape[0] < 100:\n",
    "        print(\"Insufficient data returned for this sample. Skipping simulation.\")\n",
    "        continue\n",
    "\n",
    "    # Compute momentum and mean-reversion (z-score) using your windows\n",
    "    momentum_df = compute_momentum(data, window=63)    # About 3 months of trading days\n",
    "    zscore_df   = compute_mean_reversion(data, window=20)  # 20-day rolling window\n",
    "\n",
    "    # Generate signals for each approach\n",
    "    momentum_signals = generate_signals_momentum(momentum_df, threshold=0.10)\n",
    "    meanrev_signals  = generate_signals_meanreversion(zscore_df, z_entry=1.0)\n",
    "\n",
    "    # Compute next-day returns based on the signals (used for choosing the best strategy)\n",
    "    momentum_returns = compute_signal_returns(data, momentum_signals)\n",
    "    meanrev_returns  = compute_signal_returns(data, meanrev_signals)\n",
    "\n",
    "    # 1 if momentum outperformed mean-reversion on that day, 0 otherwise.\n",
    "    label = build_strategy_choice_label(momentum_returns, meanrev_returns)\n",
    "\n",
    "    # Build features for the strategy chooser (averaging factors across stocks, plus volatility etc.)\n",
    "    features = build_feature_matrix(data, momentum_df, zscore_df, vol_window=20)\n",
    "\n",
    "    # TRAIN THE STRATEGY CHOOSER\n",
    "    try:\n",
    "        clf = train_strategy_chooser(features, label)\n",
    "    except Exception as e:\n",
    "        print(f\"Training classifier failed with error: {e}\\nSkipping simulation.\")\n",
    "        continue\n",
    "\n",
    "    # GENERATE FINAL SIGNALS & APPLY STOP-LOSS\n",
    "    signals = generate_final_signal(clf, features, momentum_signals, meanrev_signals)\n",
    "    final_signals = apply_stop_loss(signals, data, stop_loss_pct=0.05)\n",
    "\n",
    "    # TRACK PERFORMANCE\n",
    "    # Use the SPY column from your data as the benchmark series\n",
    "    spy_series = data[\"SPY\"]\n",
    "    result_df = track_strategy_chosen_signals(data, final_signals, spy_series, initial_capital=initial_capital)\n",
    "    \n",
    "    # Make sure we have results; use the last available date to record final portfolio values.\n",
    "    if result_df.empty:\n",
    "        print(\"No results available from tracking performance. Skipping simulation.\")\n",
    "        continue\n",
    "\n",
    "    final_date = result_df.index[-1]\n",
    "    final_strategy = result_df.at[final_date, \"Strategy\"]\n",
    "    final_spy = result_df.at[final_date, \"SPY_BuyHold\"]\n",
    "    final_equal = result_df.at[final_date, \"EqualWeight_BuyHold\"]\n",
    "\n",
    "    final_strategy_values.append(final_strategy)\n",
    "    final_spy_values.append(final_spy)\n",
    "    final_equal_values.append(final_equal)\n",
    "\n",
    "    print(f\"Simulation {sim+1} final values (Date: {final_date.date()}):\")\n",
    "    print(f\"  ML Strategy:           ${final_strategy:,.2f}\")\n",
    "    print(f\"  SPY Buy & Hold:        ${final_spy:,.2f}\")\n",
    "    print(f\"  Equal Weight Buy & Hold: ${final_equal:,.2f}\")\n",
    "\n",
    "# COMPUTE AVERAGES AND MEDIANS ACROSS SIMULATIONS\n",
    "if final_strategy_values:\n",
    "    avg_strategy = np.mean(final_strategy_values)\n",
    "    avg_spy = np.mean(final_spy_values)\n",
    "    avg_equal = np.mean(final_equal_values)\n",
    "\n",
    "    median_strategy = np.median(final_strategy_values)\n",
    "    median_spy = np.median(final_spy_values)\n",
    "    median_equal = np.median(final_equal_values)\n",
    "\n",
    "    max_strategy = np.max(final_strategy_values)\n",
    "    min_strategy = np.min(final_strategy_values)\n",
    "\n",
    "    print(\"\\n============================================\")\n",
    "    print(\"Final Portfolio Statistics (over simulations):\")\n",
    "    print(f\"  SPY Buy & Hold:                    ${avg_spy:,.2f}\")\n",
    "    print()\n",
    "    print(f\"  Equal Weight Buy & Hold - Average: ${avg_equal:,.2f}\")\n",
    "    print(f\"  Equal Weight Buy & Hold - Median:  ${median_equal:,.2f}\")\n",
    "    print()\n",
    "    print(f\"  ML Strategy - Average:             ${avg_strategy:,.2f}\")\n",
    "    print(f\"  ML Strategy - Median:              ${median_strategy:,.2f}\")\n",
    "    print(f\"  ML Strategy - Max:                 ${max_strategy:,.2f}\")\n",
    "    print(f\"  ML Strategy - Min:                 ${min_strategy:,.2f}\")\n",
    "    print(\"============================================\\n\")\n",
    "else:\n",
    "    print(\"No successful simulations to report statistics.\")"
   ]
  },
  {
   "cell_type": "markdown",
   "metadata": {},
   "source": [
    "## Sim 2\n",
    "- Using S&P companies from start date"
   ]
  },
  {
   "cell_type": "code",
   "execution_count": 5,
   "metadata": {},
   "outputs": [
    {
     "name": "stdout",
     "output_type": "stream",
     "text": [
      "Data already downloaded. Returning existing data slice.\n"
     ]
    }
   ],
   "source": [
    "# Date Range\n",
    "start_date = \"2015-01-01\"\n",
    "end_date   = \"2025-01-01\"\n",
    "\n",
    "# Load Data\n",
    "data_all = get_sp500_data_in_date_range(start_date, end_date, data_csv=\"data/SPY_500_data.csv\", composition_csv=\"data/SPY_500_historical_stocks.csv\")\n",
    "data_all = data_all.loc[start_date:end_date].dropna(axis=1, how='any')"
   ]
  },
  {
   "cell_type": "code",
   "execution_count": 6,
   "metadata": {},
   "outputs": [],
   "source": [
    "# Check that SPY is present (used as the benchmark).\n",
    "if \"SPY\" not in data_all.columns:\n",
    "    raise ValueError(\"SPY not found in the saved data. Please ensure SPY is included in the composition.\")\n",
    "\n",
    "# Parameters\n",
    "n_simulations   = 10 \n",
    "sample_size     = 15\n",
    "start_date      = \"2015-01-01\"\n",
    "end_date        = \"2025-01-01\"\n",
    "initial_capital = 10000.0\n",
    "\n",
    "# Limit the data to the desired date range\n",
    "data_all = data_all.loc[start_date:end_date]\n",
    "\n",
    "# Prepare a list of tickers available for sampling (exclude SPY, which is used as the benchmark)\n",
    "available_tickers = [\n",
    "    ticker for ticker in data_all.columns \n",
    "    if ticker != \"SPY\" and data_all[ticker].notna().sum() > 0\n",
    "]"
   ]
  },
  {
   "cell_type": "code",
   "execution_count": 7,
   "metadata": {},
   "outputs": [
    {
     "name": "stdout",
     "output_type": "stream",
     "text": [
      "\n",
      "=== Running Simulation 1 of 10 ===\n",
      "Tickers selected for simulation: ['HSY' 'QCOM' 'XRX' 'HRL' 'MU' 'FIS' 'UNH' 'JWN' 'PNW' 'INTC' 'ITT' 'AFL'\n",
      " 'ADSK' 'EOG' 'APH']\n",
      "Best Params: {'max_depth': None, 'min_samples_split': 2, 'n_estimators': 50}\n",
      "Best CV Score: 0.5076530612244898\n",
      "Simulation 1 final values on 2024-12-31:\n",
      "  ML Strategy:           $36,686,848.84\n",
      "  SPY Buy & Hold:        $33,957.37\n",
      "  Equal Weight BuyHold:  $29,474.57\n",
      "\n",
      "=== Running Simulation 2 of 10 ===\n",
      "Tickers selected for simulation: ['DHR' 'VMC' 'VIAV' 'WELL' 'PHM' 'CSCO' 'MAS' 'MRK' 'DOV' 'MET' 'STT'\n",
      " 'NOC' 'FHN' 'FSLR' 'CLX']\n",
      "Best Params: {'max_depth': 3, 'min_samples_split': 5, 'n_estimators': 50}\n",
      "Best CV Score: 0.523469387755102\n",
      "Simulation 2 final values on 2024-12-31:\n",
      "  ML Strategy:           $26,090.96\n",
      "  SPY Buy & Hold:        $33,957.37\n",
      "  Equal Weight BuyHold:  $40,683.58\n",
      "\n",
      "=== Running Simulation 3 of 10 ===\n",
      "Tickers selected for simulation: ['DTE' 'NDAQ' 'TXN' 'PG' 'HAL' 'SO' 'EMR' 'FMC' 'FE' 'A' 'PSA' 'CHRW'\n",
      " 'SYK' 'ADBE' 'DFS']\n",
      "Best Params: {'max_depth': 3, 'min_samples_split': 5, 'n_estimators': 50}\n",
      "Best CV Score: 0.5306122448979592\n",
      "Simulation 3 final values on 2024-12-31:\n",
      "  ML Strategy:           $25,060.85\n",
      "  SPY Buy & Hold:        $33,957.37\n",
      "  Equal Weight BuyHold:  $33,878.16\n",
      "\n",
      "=== Running Simulation 4 of 10 ===\n",
      "Tickers selected for simulation: ['PHM' 'IRM' 'CME' 'ECL' 'GLW' 'UNM' 'TROW' 'GHC' 'VFC' 'MCD' 'MET' 'AIG'\n",
      " 'MA' 'MAT' 'SJM']\n",
      "Best Params: {'max_depth': 3, 'min_samples_split': 2, 'n_estimators': 50}\n",
      "Best CV Score: 0.5040816326530613\n",
      "Simulation 4 final values on 2024-12-31:\n",
      "  ML Strategy:           $29,220.47\n",
      "  SPY Buy & Hold:        $33,957.37\n",
      "  Equal Weight BuyHold:  $30,346.17\n",
      "\n",
      "=== Running Simulation 5 of 10 ===\n",
      "Tickers selected for simulation: ['AON' 'TAP' 'HPQ' 'WY' 'CAG' 'PCAR' 'PNW' 'TROW' 'RHI' 'MET' 'IPG' 'LUV'\n",
      " 'PWR' 'PAYX' 'KDP']\n",
      "Best Params: {'max_depth': 3, 'min_samples_split': 2, 'n_estimators': 50}\n",
      "Best CV Score: 0.5051020408163266\n",
      "Simulation 5 final values on 2024-12-31:\n",
      "  ML Strategy:           $29,788.03\n",
      "  SPY Buy & Hold:        $33,957.37\n",
      "  Equal Weight BuyHold:  $28,440.68\n",
      "\n",
      "=== Running Simulation 6 of 10 ===\n",
      "Tickers selected for simulation: ['NBR' 'MCK' 'RHI' 'SBUX' 'TDC' 'ZBH' 'ES' 'R' 'MSFT' 'RRC' 'OXY' 'RSG'\n",
      " 'INTU' 'AKAM' 'GIS']\n",
      "Best Params: {'max_depth': 5, 'min_samples_split': 5, 'n_estimators': 50}\n",
      "Best CV Score: 0.5178571428571429\n",
      "Simulation 6 final values on 2024-12-31:\n",
      "  ML Strategy:           $356,952.86\n",
      "  SPY Buy & Hold:        $33,957.37\n",
      "  Equal Weight BuyHold:  $28,812.84\n",
      "\n",
      "=== Running Simulation 7 of 10 ===\n",
      "Tickers selected for simulation: ['MKC' 'MMC' 'ITW' 'TXN' 'K' 'KEY' 'JEF' 'BSX' 'KO' 'EQT' 'SNA' 'EXPE'\n",
      " 'TDC' 'NWL' 'TRV']\n",
      "Best Params: {'max_depth': 3, 'min_samples_split': 5, 'n_estimators': 50}\n",
      "Best CV Score: 0.513265306122449\n",
      "Simulation 7 final values on 2024-12-31:\n",
      "  ML Strategy:           $37,971.36\n",
      "  SPY Buy & Hold:        $33,957.37\n",
      "  Equal Weight BuyHold:  $31,993.15\n",
      "\n",
      "=== Running Simulation 8 of 10 ===\n",
      "Tickers selected for simulation: ['HON' 'DRI' 'MAS' 'PH' 'NOC' 'SLB' 'EIX' 'CTSH' 'NVDA' 'CF' 'IVZ' 'FLR'\n",
      " 'BXP' 'CMCSA' 'NTAP']\n",
      "Best Params: {'max_depth': 5, 'min_samples_split': 2, 'n_estimators': 100}\n",
      "Best CV Score: 0.5107142857142857\n",
      "Simulation 8 final values on 2024-12-31:\n",
      "  ML Strategy:           $451,459.14\n",
      "  SPY Buy & Hold:        $33,957.37\n",
      "  Equal Weight BuyHold:  $39,398.92\n",
      "\n",
      "=== Running Simulation 9 of 10 ===\n",
      "Tickers selected for simulation: ['CLF' 'WYNN' 'DHI' 'SLB' 'WAT' 'ROK' 'CNX' 'GWW' 'PSA' 'CPB' 'GIS' 'BXP'\n",
      " 'MKC' 'TMO' 'ORLY']\n",
      "Best Params: {'max_depth': 5, 'min_samples_split': 2, 'n_estimators': 50}\n",
      "Best CV Score: 0.5265306122448979\n",
      "Simulation 9 final values on 2024-12-31:\n",
      "  ML Strategy:           $202,308.54\n",
      "  SPY Buy & Hold:        $33,957.37\n",
      "  Equal Weight BuyHold:  $33,525.42\n",
      "\n",
      "=== Running Simulation 10 of 10 ===\n",
      "Tickers selected for simulation: ['IVZ' 'WYNN' 'PWR' 'EBAY' 'RHI' 'NWL' 'TAP' 'ETN' 'VTR' 'PLD' 'CLX' 'LUV'\n",
      " 'AZO' 'PPG' 'BIIB']\n",
      "Best Params: {'max_depth': 3, 'min_samples_split': 5, 'n_estimators': 100}\n",
      "Best CV Score: 0.5219387755102041\n",
      "Simulation 10 final values on 2024-12-31:\n",
      "  ML Strategy:           $37,684.98\n",
      "  SPY Buy & Hold:        $33,957.37\n",
      "  Equal Weight BuyHold:  $22,952.82\n",
      "\n",
      "============================================\n",
      "Final Portfolio Statistics (over simulations):\n",
      "  SPY Buy & Hold:                    $33,957.37\n",
      "\n",
      "  Equal Weight Buy & Hold - Average: $31,950.63\n",
      "  Equal Weight Buy & Hold - Median:  $31,169.66\n",
      "\n",
      "  ML Strategy - Average:             $3,788,338.60\n",
      "  ML Strategy - Median:              $37,828.17\n",
      "  ML Strategy - Max:                 $36,686,848.84\n",
      "  ML Strategy - Min:                 $25,060.85\n",
      "============================================\n",
      "\n"
     ]
    }
   ],
   "source": [
    "# Containers to store the final portfolio values.\n",
    "final_strategy_values = []\n",
    "final_spy_values      = []\n",
    "final_equal_values    = []\n",
    "\n",
    "simulation_results = []\n",
    "\n",
    "for sim in range(n_simulations):\n",
    "    print(f\"\\n=== Running Simulation {sim+1} of {n_simulations} ===\")\n",
    "    \n",
    "    if len(available_tickers) < sample_size:\n",
    "        print(\"Not enough tickers available for simulation.\")\n",
    "        break\n",
    "        \n",
    "    # Randomly sample companies\n",
    "    sample_tickers = np.random.choice(available_tickers, size=sample_size, replace=False)\n",
    "    sample_data = data_all[list(sample_tickers)].copy()\n",
    "    \n",
    "    # Use SPY from the saved data as the benchmark.\n",
    "    benchmark_series = data_all[\"SPY\"]\n",
    "    \n",
    "    print(\"Tickers selected for simulation:\", sample_tickers)\n",
    "    \n",
    "    # Run the Strategy\n",
    "    # Compute momentum and mean-reversion indicators\n",
    "    momentum_df = compute_momentum(sample_data, window=63)   # 3-month window\n",
    "    zscore_df   = compute_mean_reversion(sample_data, window=20)  # 20-day window\n",
    "    \n",
    "    # Generate momentum and mean-reversion signals\n",
    "    momentum_signals = generate_signals_momentum(momentum_df, threshold=0.10)\n",
    "    meanrev_signals  = generate_signals_meanreversion(zscore_df, z_entry=1.0)\n",
    "    \n",
    "    # Compute next-day return\n",
    "    momentum_returns = compute_signal_returns(sample_data, momentum_signals)\n",
    "    meanrev_returns  = compute_signal_returns(sample_data, meanrev_signals)\n",
    "    \n",
    "    # Build a label: 1 if momentum outperformed mean-reversion; 0 otherwise\n",
    "    label = build_strategy_choice_label(momentum_returns, meanrev_returns)\n",
    "    \n",
    "    # Build the feature matrix for the strategy chooser\n",
    "    features = build_feature_matrix(sample_data, momentum_df, zscore_df, vol_window=20)\n",
    "    \n",
    "    # Train the strategy chooser classifier\n",
    "    try:\n",
    "        clf = train_strategy_chooser(features, label)\n",
    "    except Exception as e:\n",
    "        print(f\"Error training classifier in simulation {sim+1}: {e}\")\n",
    "        continue  # Skip this simulation if training fails\n",
    "    \n",
    "    # Generate final signals based on classifier predictions\n",
    "    signals = generate_final_signal(clf, features, momentum_signals, meanrev_signals)\n",
    "    \n",
    "    # Apply a stop-loss rule\n",
    "    final_signals = apply_stop_loss(signals, sample_data, stop_loss_pct=0.05)\n",
    "    \n",
    "    # Track strategy performance\n",
    "    result_df = track_strategy_chosen_signals(sample_data, final_signals, benchmark_series, initial_capital=initial_capital)\n",
    "    simulation_results.append(result_df)\n",
    "    \n",
    "    # Extract final portfolio values for each strategy\n",
    "    final_date = result_df.index[-1]\n",
    "    final_strategy = result_df.loc[final_date, \"Strategy\"]\n",
    "    final_spy      = result_df.loc[final_date, \"SPY_BuyHold\"]\n",
    "    final_equal    = result_df.loc[final_date, \"EqualWeight_BuyHold\"]\n",
    "    \n",
    "    final_strategy_values.append(final_strategy)\n",
    "    final_spy_values.append(final_spy)\n",
    "    final_equal_values.append(final_equal)\n",
    "    \n",
    "    print(f\"Simulation {sim+1} final values on {final_date.date()}:\")\n",
    "    print(f\"  ML Strategy:           ${final_strategy:,.2f}\")\n",
    "    print(f\"  SPY Buy & Hold:        ${final_spy:,.2f}\")\n",
    "    print(f\"  Equal Weight BuyHold:  ${final_equal:,.2f}\")\n",
    "\n",
    "# Overall Statistics\n",
    "if final_strategy_values:\n",
    "    mean_spy   = np.mean(final_spy_values)\n",
    "    \n",
    "    mean_equal = np.mean(final_equal_values)\n",
    "    median_equal = np.median(final_equal_values)\n",
    "\n",
    "    mean_ml    = np.mean(final_strategy_values)\n",
    "    median_ml  = np.median(final_strategy_values)\n",
    "    max_ml     = np.max(final_strategy_values)\n",
    "    min_ml     = np.min(final_strategy_values)\n",
    "    \n",
    "    print(\"\\n============================================\")\n",
    "    print(\"Final Portfolio Statistics (over simulations):\")\n",
    "    print(f\"  SPY Buy & Hold:                    ${mean_spy:,.2f}\")\n",
    "    print()\n",
    "    print(f\"  Equal Weight Buy & Hold - Average: ${mean_equal:,.2f}\")\n",
    "    print(f\"  Equal Weight Buy & Hold - Median:  ${median_equal:,.2f}\")\n",
    "    print()\n",
    "    print(f\"  ML Strategy - Average:             ${mean_ml:,.2f}\")\n",
    "    print(f\"  ML Strategy - Median:              ${median_ml:,.2f}\")\n",
    "    print(f\"  ML Strategy - Max:                 ${max_ml:,.2f}\")\n",
    "    print(f\"  ML Strategy - Min:                 ${min_ml:,.2f}\")\n",
    "    print(\"============================================\\n\")  \n",
    "else:\n",
    "    print(\"No simulation results to report overall statistics.\")"
   ]
  },
  {
   "cell_type": "code",
   "execution_count": null,
   "metadata": {},
   "outputs": [],
   "source": []
  }
 ],
 "metadata": {
  "kernelspec": {
   "display_name": "base",
   "language": "python",
   "name": "python3"
  },
  "language_info": {
   "codemirror_mode": {
    "name": "ipython",
    "version": 3
   },
   "file_extension": ".py",
   "mimetype": "text/x-python",
   "name": "python",
   "nbconvert_exporter": "python",
   "pygments_lexer": "ipython3",
   "version": "3.12.7"
  }
 },
 "nbformat": 4,
 "nbformat_minor": 2
}
