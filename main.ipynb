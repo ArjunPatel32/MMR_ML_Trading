{
 "cells": [
  {
   "cell_type": "markdown",
   "metadata": {},
   "source": [
    "# Main Notebook to Perform Trading"
   ]
  },
  {
   "cell_type": "markdown",
   "metadata": {},
   "source": [
    "### Imports"
   ]
  },
  {
   "cell_type": "code",
   "execution_count": 1,
   "metadata": {},
   "outputs": [],
   "source": [
    "import matplotlib.pyplot as plt\n",
    "\n",
    "from data_collection import get_historical_data\n",
    "from computing import compute_momentum, compute_mean_reversion, compute_signal_returns\n",
    "from signals import generate_signals_momentum, generate_signals_meanreversion, generate_final_signal\n",
    "from trading import build_strategy_choice_label, build_feature_matrix, track_strategy_chosen_signals\n",
    "from training import train_strategy_chooser\n",
    "from analysis import count_strategy_choices, build_trade_log, get_trades_for_stock"
   ]
  },
  {
   "cell_type": "markdown",
   "metadata": {},
   "source": [
    "### Get Data"
   ]
  },
  {
   "cell_type": "code",
   "execution_count": 2,
   "metadata": {},
   "outputs": [
    {
     "name": "stderr",
     "output_type": "stream",
     "text": [
      "[*********************100%***********************]  1 of 1 completed\n",
      "[*********************100%***********************]  1 of 1 completed\n",
      "[*********************100%***********************]  1 of 1 completed\n",
      "[*********************100%***********************]  1 of 1 completed\n",
      "[*********************100%***********************]  1 of 1 completed\n",
      "[*********************100%***********************]  1 of 1 completed\n",
      "[*********************100%***********************]  1 of 1 completed\n",
      "[*********************100%***********************]  1 of 1 completed\n",
      "[*********************100%***********************]  1 of 1 completed\n",
      "[*********************100%***********************]  1 of 1 completed\n",
      "[*********************100%***********************]  1 of 1 completed\n",
      "[*********************100%***********************]  1 of 1 completed\n",
      "[*********************100%***********************]  1 of 1 completed\n",
      "[*********************100%***********************]  1 of 1 completed\n",
      "[*********************100%***********************]  1 of 1 completed\n",
      "[*********************100%***********************]  1 of 1 completed\n",
      "[*********************100%***********************]  1 of 1 completed\n",
      "[*********************100%***********************]  1 of 1 completed\n",
      "[*********************100%***********************]  1 of 1 completed\n",
      "[*********************100%***********************]  1 of 1 completed\n",
      "[*********************100%***********************]  1 of 1 completed\n",
      "[*********************100%***********************]  1 of 1 completed\n",
      "[*********************100%***********************]  1 of 1 completed\n",
      "[*********************100%***********************]  1 of 1 completed\n",
      "[*********************100%***********************]  1 of 1 completed"
     ]
    },
    {
     "name": "stdout",
     "output_type": "stream",
     "text": [
      "Historical Data Shape: (1258, 25)\n"
     ]
    },
    {
     "name": "stderr",
     "output_type": "stream",
     "text": [
      "\n"
     ]
    },
    {
     "data": {
      "text/html": [
       "<div>\n",
       "<style scoped>\n",
       "    .dataframe tbody tr th:only-of-type {\n",
       "        vertical-align: middle;\n",
       "    }\n",
       "\n",
       "    .dataframe tbody tr th {\n",
       "        vertical-align: top;\n",
       "    }\n",
       "\n",
       "    .dataframe thead th {\n",
       "        text-align: right;\n",
       "    }\n",
       "</style>\n",
       "<table border=\"1\" class=\"dataframe\">\n",
       "  <thead>\n",
       "    <tr style=\"text-align: right;\">\n",
       "      <th></th>\n",
       "      <th>AAPL</th>\n",
       "      <th>MSFT</th>\n",
       "      <th>GOOG</th>\n",
       "      <th>AMZN</th>\n",
       "      <th>META</th>\n",
       "      <th>NVDA</th>\n",
       "      <th>IBM</th>\n",
       "      <th>ORCL</th>\n",
       "      <th>INTC</th>\n",
       "      <th>ADBE</th>\n",
       "      <th>...</th>\n",
       "      <th>PG</th>\n",
       "      <th>JNJ</th>\n",
       "      <th>GS</th>\n",
       "      <th>TSLA</th>\n",
       "      <th>NFLX</th>\n",
       "      <th>DIS</th>\n",
       "      <th>MCD</th>\n",
       "      <th>SBUX</th>\n",
       "      <th>BA</th>\n",
       "      <th>SPY</th>\n",
       "    </tr>\n",
       "    <tr>\n",
       "      <th>Date</th>\n",
       "      <th></th>\n",
       "      <th></th>\n",
       "      <th></th>\n",
       "      <th></th>\n",
       "      <th></th>\n",
       "      <th></th>\n",
       "      <th></th>\n",
       "      <th></th>\n",
       "      <th></th>\n",
       "      <th></th>\n",
       "      <th></th>\n",
       "      <th></th>\n",
       "      <th></th>\n",
       "      <th></th>\n",
       "      <th></th>\n",
       "      <th></th>\n",
       "      <th></th>\n",
       "      <th></th>\n",
       "      <th></th>\n",
       "      <th></th>\n",
       "      <th></th>\n",
       "    </tr>\n",
       "  </thead>\n",
       "  <tbody>\n",
       "    <tr>\n",
       "      <th>2024-12-23</th>\n",
       "      <td>255.270004</td>\n",
       "      <td>435.250000</td>\n",
       "      <td>195.990005</td>\n",
       "      <td>225.059998</td>\n",
       "      <td>599.849976</td>\n",
       "      <td>139.669998</td>\n",
       "      <td>221.929993</td>\n",
       "      <td>168.725281</td>\n",
       "      <td>20.200001</td>\n",
       "      <td>446.739990</td>\n",
       "      <td>...</td>\n",
       "      <td>167.091125</td>\n",
       "      <td>145.270004</td>\n",
       "      <td>570.780029</td>\n",
       "      <td>430.600006</td>\n",
       "      <td>911.450012</td>\n",
       "      <td>111.400002</td>\n",
       "      <td>291.290009</td>\n",
       "      <td>87.440002</td>\n",
       "      <td>177.690002</td>\n",
       "      <td>594.690002</td>\n",
       "    </tr>\n",
       "    <tr>\n",
       "      <th>2024-12-24</th>\n",
       "      <td>258.200012</td>\n",
       "      <td>439.329987</td>\n",
       "      <td>197.570007</td>\n",
       "      <td>229.050003</td>\n",
       "      <td>607.750000</td>\n",
       "      <td>140.220001</td>\n",
       "      <td>224.410004</td>\n",
       "      <td>170.989731</td>\n",
       "      <td>20.400000</td>\n",
       "      <td>447.940002</td>\n",
       "      <td>...</td>\n",
       "      <td>167.916092</td>\n",
       "      <td>145.850006</td>\n",
       "      <td>582.789978</td>\n",
       "      <td>462.279999</td>\n",
       "      <td>932.119995</td>\n",
       "      <td>112.559998</td>\n",
       "      <td>293.989990</td>\n",
       "      <td>89.910004</td>\n",
       "      <td>179.339996</td>\n",
       "      <td>601.299988</td>\n",
       "    </tr>\n",
       "    <tr>\n",
       "      <th>2024-12-26</th>\n",
       "      <td>259.019989</td>\n",
       "      <td>438.109985</td>\n",
       "      <td>197.100006</td>\n",
       "      <td>227.050003</td>\n",
       "      <td>603.349976</td>\n",
       "      <td>139.929993</td>\n",
       "      <td>224.889999</td>\n",
       "      <td>171.259048</td>\n",
       "      <td>20.440001</td>\n",
       "      <td>450.160004</td>\n",
       "      <td>...</td>\n",
       "      <td>169.128708</td>\n",
       "      <td>145.580002</td>\n",
       "      <td>581.229980</td>\n",
       "      <td>454.130005</td>\n",
       "      <td>924.140015</td>\n",
       "      <td>112.550003</td>\n",
       "      <td>294.799988</td>\n",
       "      <td>91.860001</td>\n",
       "      <td>180.380005</td>\n",
       "      <td>601.340027</td>\n",
       "    </tr>\n",
       "    <tr>\n",
       "      <th>2024-12-27</th>\n",
       "      <td>255.589996</td>\n",
       "      <td>430.529999</td>\n",
       "      <td>194.039993</td>\n",
       "      <td>223.750000</td>\n",
       "      <td>599.809998</td>\n",
       "      <td>137.009995</td>\n",
       "      <td>222.779999</td>\n",
       "      <td>168.545731</td>\n",
       "      <td>20.299999</td>\n",
       "      <td>446.480011</td>\n",
       "      <td>...</td>\n",
       "      <td>168.502518</td>\n",
       "      <td>145.050003</td>\n",
       "      <td>576.179993</td>\n",
       "      <td>431.660004</td>\n",
       "      <td>907.549988</td>\n",
       "      <td>111.550003</td>\n",
       "      <td>293.619995</td>\n",
       "      <td>92.250000</td>\n",
       "      <td>180.720001</td>\n",
       "      <td>595.010010</td>\n",
       "    </tr>\n",
       "    <tr>\n",
       "      <th>2024-12-30</th>\n",
       "      <td>252.199997</td>\n",
       "      <td>424.829987</td>\n",
       "      <td>192.690002</td>\n",
       "      <td>221.300003</td>\n",
       "      <td>591.239990</td>\n",
       "      <td>137.490005</td>\n",
       "      <td>220.250000</td>\n",
       "      <td>166.500763</td>\n",
       "      <td>19.820000</td>\n",
       "      <td>445.799988</td>\n",
       "      <td>...</td>\n",
       "      <td>166.077301</td>\n",
       "      <td>143.339996</td>\n",
       "      <td>573.549988</td>\n",
       "      <td>417.410004</td>\n",
       "      <td>900.429993</td>\n",
       "      <td>110.800003</td>\n",
       "      <td>289.600006</td>\n",
       "      <td>90.580002</td>\n",
       "      <td>176.550003</td>\n",
       "      <td>588.219971</td>\n",
       "    </tr>\n",
       "  </tbody>\n",
       "</table>\n",
       "<p>5 rows × 25 columns</p>\n",
       "</div>"
      ],
      "text/plain": [
       "                  AAPL        MSFT        GOOG        AMZN        META  \\\n",
       "Date                                                                     \n",
       "2024-12-23  255.270004  435.250000  195.990005  225.059998  599.849976   \n",
       "2024-12-24  258.200012  439.329987  197.570007  229.050003  607.750000   \n",
       "2024-12-26  259.019989  438.109985  197.100006  227.050003  603.349976   \n",
       "2024-12-27  255.589996  430.529999  194.039993  223.750000  599.809998   \n",
       "2024-12-30  252.199997  424.829987  192.690002  221.300003  591.239990   \n",
       "\n",
       "                  NVDA         IBM        ORCL       INTC        ADBE  ...  \\\n",
       "Date                                                                   ...   \n",
       "2024-12-23  139.669998  221.929993  168.725281  20.200001  446.739990  ...   \n",
       "2024-12-24  140.220001  224.410004  170.989731  20.400000  447.940002  ...   \n",
       "2024-12-26  139.929993  224.889999  171.259048  20.440001  450.160004  ...   \n",
       "2024-12-27  137.009995  222.779999  168.545731  20.299999  446.480011  ...   \n",
       "2024-12-30  137.490005  220.250000  166.500763  19.820000  445.799988  ...   \n",
       "\n",
       "                    PG         JNJ          GS        TSLA        NFLX  \\\n",
       "Date                                                                     \n",
       "2024-12-23  167.091125  145.270004  570.780029  430.600006  911.450012   \n",
       "2024-12-24  167.916092  145.850006  582.789978  462.279999  932.119995   \n",
       "2024-12-26  169.128708  145.580002  581.229980  454.130005  924.140015   \n",
       "2024-12-27  168.502518  145.050003  576.179993  431.660004  907.549988   \n",
       "2024-12-30  166.077301  143.339996  573.549988  417.410004  900.429993   \n",
       "\n",
       "                   DIS         MCD       SBUX          BA         SPY  \n",
       "Date                                                                   \n",
       "2024-12-23  111.400002  291.290009  87.440002  177.690002  594.690002  \n",
       "2024-12-24  112.559998  293.989990  89.910004  179.339996  601.299988  \n",
       "2024-12-26  112.550003  294.799988  91.860001  180.380005  601.340027  \n",
       "2024-12-27  111.550003  293.619995  92.250000  180.720001  595.010010  \n",
       "2024-12-30  110.800003  289.600006  90.580002  176.550003  588.219971  \n",
       "\n",
       "[5 rows x 25 columns]"
      ]
     },
     "metadata": {},
     "output_type": "display_data"
    }
   ],
   "source": [
    "# Define the ticker list\n",
    "# Always include \"SPY\" to benchmark vs. S&P\n",
    "tickers = [\n",
    "    # Technology\n",
    "    \"AAPL\",  # Apple (tech)\n",
    "    \"MSFT\",  # Microsoft (tech)\n",
    "    \"GOOG\",  # Alphabet (tech)\n",
    "    \"AMZN\",  # Amazon (e-commerce/tech)\n",
    "    \"META\",  # Meta (Facebook)\n",
    "    \"NVDA\",  # NVIDIA (semiconductors)\n",
    "    \"IBM\",   # IBM (enterprise tech)\n",
    "    \"ORCL\",  # Oracle (enterprise tech)\n",
    "    \"INTC\",  # Intel (semiconductors)\n",
    "    \"ADBE\",  # Adobe (software)\n",
    "    \"CRM\",   # Salesforce (enterprise software)\n",
    "\n",
    "    # Consumer Goods & Retail\n",
    "    \"KO\",    # Coca-Cola (beverage)\n",
    "    \"PEP\",   # PepsiCo (beverage/food)\n",
    "    \"WMT\",   # Walmart (retail)\n",
    "    \"COST\",  # Costco (retail)\n",
    "    \"PG\",    # Procter & Gamble (consumer goods)\n",
    "\n",
    "    # Healthcare\n",
    "    \"JNJ\",   # Johnson & Johnson (healthcare)\n",
    "\n",
    "    # Financials\n",
    "    \"GS\",    # Goldman Sachs (banking)\n",
    "\n",
    "    # Automotive & Clean Energy\n",
    "    \"TSLA\",  # Tesla (EV/clean energy)\n",
    "\n",
    "    # Entertainment & Media\n",
    "    \"NFLX\",  # Netflix (streaming)\n",
    "    \"DIS\",   # Disney (entertainment)\n",
    "\n",
    "    # Food & Beverage\n",
    "    \"MCD\",   # McDonald's (fast food)\n",
    "    \"SBUX\",  # Starbucks (coffee)\n",
    "\n",
    "    # Aerospace\n",
    "    \"BA\",    # Boeing (aerospace)\n",
    "\n",
    "    # Benchmark\n",
    "    \"SPY\"    # S&P 500 (benchmark)\n",
    "]\n",
    "\n",
    "# Download historical data\n",
    "start_date = \"2019-12-31\"\n",
    "end_date = \"2024-12-31\"\n",
    "data = get_historical_data(tickers, start=start_date, end=end_date)\n",
    "spy_series = data[\"SPY\"] # S&P 500\n",
    "\n",
    "print(\"Historical Data Shape:\", data.shape)\n",
    "display(data.tail())"
   ]
  },
  {
   "cell_type": "markdown",
   "metadata": {},
   "source": [
    "### Compute Signals"
   ]
  },
  {
   "cell_type": "code",
   "execution_count": 3,
   "metadata": {},
   "outputs": [],
   "source": [
    "# Compute Momentum & Mean-Reversion\n",
    "momentum_df = compute_momentum(data, window=63)  # 3-month\n",
    "zscore_df   = compute_mean_reversion(data, short_window=5, long_window=20)"
   ]
  },
  {
   "cell_type": "code",
   "execution_count": 4,
   "metadata": {},
   "outputs": [],
   "source": [
    "# Generate separate signals\n",
    "momentum_signals   = generate_signals_momentum(momentum_df, threshold=0.10) # 10%\n",
    "meanrev_signals    = generate_signals_meanreversion(zscore_df, z_entry=1.0, z_exit=0.0)"
   ]
  },
  {
   "cell_type": "code",
   "execution_count": 5,
   "metadata": {},
   "outputs": [],
   "source": [
    "# Compute next-day returns from each approach\n",
    "momentum_returns   = compute_signal_returns(data, momentum_signals)\n",
    "meanrev_returns    = compute_signal_returns(data, meanrev_signals)\n",
    "label = build_strategy_choice_label(momentum_returns, meanrev_returns)"
   ]
  },
  {
   "cell_type": "markdown",
   "metadata": {},
   "source": [
    "### Train Model"
   ]
  },
  {
   "cell_type": "code",
   "execution_count": 6,
   "metadata": {},
   "outputs": [
    {
     "name": "stdout",
     "output_type": "stream",
     "text": [
      "Best Params: {'max_depth': 5, 'min_samples_split': 5, 'n_estimators': 50}\n",
      "Best CV Score: 0.5167364016736401\n"
     ]
    }
   ],
   "source": [
    "# Build features & train the \"strategy chooser\"\n",
    "features = build_feature_matrix(data, momentum_df, zscore_df, vol_window=20)\n",
    "clf = train_strategy_chooser(features, label)"
   ]
  },
  {
   "cell_type": "markdown",
   "metadata": {},
   "source": [
    "### Results"
   ]
  },
  {
   "cell_type": "code",
   "execution_count": 7,
   "metadata": {},
   "outputs": [],
   "source": [
    "# Generate the final signals day by day based on classifier\n",
    "final_signals = generate_final_signal(\n",
    "    clf,\n",
    "    features,\n",
    "    momentum_signals,\n",
    "    meanrev_signals\n",
    ")"
   ]
  },
  {
   "cell_type": "code",
   "execution_count": 58,
   "metadata": {},
   "outputs": [
    {
     "data": {
      "image/png": "[encoded data removed]",
      "text/plain": [
       "<Figure size 1200x600 with 1 Axes>"
      ]
     },
     "metadata": {},
     "output_type": "display_data"
    },
    {
     "name": "stdout",
     "output_type": "stream",
     "text": [
      "                Strategy   SPY_BuyHold\n",
      "Date                                  \n",
      "2024-12-23  58137.626858  19929.002654\n",
      "2024-12-24  58038.881059  20150.513719\n",
      "2024-12-26  57685.786625  20151.855491\n",
      "2024-12-27  57476.059869  19939.726606\n",
      "2024-12-30  57476.059869  19712.181656\n"
     ]
    }
   ],
   "source": [
    "# Track performance\n",
    "result_df = track_strategy_chosen_signals(data.dropna(), final_signals, spy_series)\n",
    "\n",
    "# plot\n",
    "result_df[['Strategy', 'SPY_BuyHold']].plot(figsize=(12, 6), title=\"ML Strategy Chooser vs. SPY\")\n",
    "plt.ylabel(\"Currency ($)\")\n",
    "plt.xlabel(\"Year\")\n",
    "plt.show()\n",
    "\n",
    "print(result_df.tail())"
   ]
  },
  {
   "cell_type": "markdown",
   "metadata": {},
   "source": [
    "### Testing and Analysis"
   ]
  },
  {
   "cell_type": "code",
   "execution_count": 8,
   "metadata": {},
   "outputs": [
    {
     "name": "stdout",
     "output_type": "stream",
     "text": [
      "Momentum chosen:       912 days\n",
      "Mean Reversion chosen: 283 days\n"
     ]
    }
   ],
   "source": [
    "n_mom, n_mr = count_strategy_choices(clf, features)"
   ]
  },
  {
   "cell_type": "code",
   "execution_count": 9,
   "metadata": {},
   "outputs": [
    {
     "name": "stdout",
     "output_type": "stream",
     "text": [
      "        Date Ticker     Action       Price\n",
      "0 2020-02-24   AAPL  OPEN_LONG   72.441605\n",
      "1 2020-02-24    SPY  OPEN_LONG  298.923492\n",
      "2 2020-02-24     BA  OPEN_LONG  317.899994\n",
      "3 2020-02-24   SBUX  OPEN_LONG   76.311783\n",
      "4 2020-02-24     GS  OPEN_LONG  198.675735\n",
      "5 2020-02-24    JNJ  OPEN_LONG  127.821861\n",
      "6 2020-02-24    DIS  OPEN_LONG  131.386887\n",
      "7 2020-02-24    PEP  OPEN_LONG  123.541054\n",
      "8 2020-02-24   INTC  OPEN_LONG   54.746273\n",
      "9 2020-02-24   ORCL  OPEN_LONG   48.836922\n"
     ]
    }
   ],
   "source": [
    "trade_log = build_trade_log(final_signals, data)\n",
    "print(trade_log.head(10))"
   ]
  },
  {
   "cell_type": "code",
   "execution_count": 10,
   "metadata": {},
   "outputs": [
    {
     "name": "stdout",
     "output_type": "stream",
     "text": [
      "Total trades for MSFT: 396\n",
      "\n",
      "Showing the first 10 trades for MSFT:\n",
      "\n"
     ]
    },
    {
     "data": {
      "text/html": [
       "<div>\n",
       "<style scoped>\n",
       "    .dataframe tbody tr th:only-of-type {\n",
       "        vertical-align: middle;\n",
       "    }\n",
       "\n",
       "    .dataframe tbody tr th {\n",
       "        vertical-align: top;\n",
       "    }\n",
       "\n",
       "    .dataframe thead th {\n",
       "        text-align: right;\n",
       "    }\n",
       "</style>\n",
       "<table border=\"1\" class=\"dataframe\">\n",
       "  <thead>\n",
       "    <tr style=\"text-align: right;\">\n",
       "      <th></th>\n",
       "      <th>Date</th>\n",
       "      <th>Ticker</th>\n",
       "      <th>Action</th>\n",
       "      <th>Price</th>\n",
       "    </tr>\n",
       "  </thead>\n",
       "  <tbody>\n",
       "    <tr>\n",
       "      <th>39</th>\n",
       "      <td>2020-03-05</td>\n",
       "      <td>MSFT</td>\n",
       "      <td>OPEN_LONG</td>\n",
       "      <td>159.469238</td>\n",
       "    </tr>\n",
       "    <tr>\n",
       "      <th>52</th>\n",
       "      <td>2020-03-06</td>\n",
       "      <td>MSFT</td>\n",
       "      <td>CLOSE_LONG</td>\n",
       "      <td>154.961487</td>\n",
       "    </tr>\n",
       "    <tr>\n",
       "      <th>96</th>\n",
       "      <td>2020-04-06</td>\n",
       "      <td>MSFT</td>\n",
       "      <td>OPEN_SHORT</td>\n",
       "      <td>158.510147</td>\n",
       "    </tr>\n",
       "    <tr>\n",
       "      <th>124</th>\n",
       "      <td>2020-04-09</td>\n",
       "      <td>MSFT</td>\n",
       "      <td>CLOSE_SHORT</td>\n",
       "      <td>158.385483</td>\n",
       "    </tr>\n",
       "    <tr>\n",
       "      <th>145</th>\n",
       "      <td>2020-04-16</td>\n",
       "      <td>MSFT</td>\n",
       "      <td>OPEN_SHORT</td>\n",
       "      <td>169.798706</td>\n",
       "    </tr>\n",
       "    <tr>\n",
       "      <th>168</th>\n",
       "      <td>2020-04-17</td>\n",
       "      <td>MSFT</td>\n",
       "      <td>CLOSE_SHORT</td>\n",
       "      <td>171.294907</td>\n",
       "    </tr>\n",
       "    <tr>\n",
       "      <th>191</th>\n",
       "      <td>2020-04-20</td>\n",
       "      <td>MSFT</td>\n",
       "      <td>OPEN_SHORT</td>\n",
       "      <td>167.899704</td>\n",
       "    </tr>\n",
       "    <tr>\n",
       "      <th>217</th>\n",
       "      <td>2020-04-21</td>\n",
       "      <td>MSFT</td>\n",
       "      <td>CLOSE_SHORT</td>\n",
       "      <td>160.955795</td>\n",
       "    </tr>\n",
       "    <tr>\n",
       "      <th>238</th>\n",
       "      <td>2020-04-22</td>\n",
       "      <td>MSFT</td>\n",
       "      <td>OPEN_SHORT</td>\n",
       "      <td>166.422684</td>\n",
       "    </tr>\n",
       "    <tr>\n",
       "      <th>254</th>\n",
       "      <td>2020-04-23</td>\n",
       "      <td>MSFT</td>\n",
       "      <td>CLOSE_SHORT</td>\n",
       "      <td>164.408585</td>\n",
       "    </tr>\n",
       "  </tbody>\n",
       "</table>\n",
       "</div>"
      ],
      "text/plain": [
       "          Date Ticker       Action       Price\n",
       "39  2020-03-05   MSFT    OPEN_LONG  159.469238\n",
       "52  2020-03-06   MSFT   CLOSE_LONG  154.961487\n",
       "96  2020-04-06   MSFT   OPEN_SHORT  158.510147\n",
       "124 2020-04-09   MSFT  CLOSE_SHORT  158.385483\n",
       "145 2020-04-16   MSFT   OPEN_SHORT  169.798706\n",
       "168 2020-04-17   MSFT  CLOSE_SHORT  171.294907\n",
       "191 2020-04-20   MSFT   OPEN_SHORT  167.899704\n",
       "217 2020-04-21   MSFT  CLOSE_SHORT  160.955795\n",
       "238 2020-04-22   MSFT   OPEN_SHORT  166.422684\n",
       "254 2020-04-23   MSFT  CLOSE_SHORT  164.408585"
      ]
     },
     "metadata": {},
     "output_type": "display_data"
    }
   ],
   "source": [
    "msft_trades = get_trades_for_stock(trade_log, 'MSFT', x=10)"
   ]
  },
  {
   "cell_type": "code",
   "execution_count": null,
   "metadata": {},
   "outputs": [],
   "source": []
  }
 ],
 "metadata": {
  "kernelspec": {
   "display_name": "base",
   "language": "python",
   "name": "python3"
  },
  "language_info": {
   "codemirror_mode": {
    "name": "ipython",
    "version": 3
   },
   "file_extension": ".py",
   "mimetype": "text/x-python",
   "name": "python",
   "nbconvert_exporter": "python",
   "pygments_lexer": "ipython3",
   "version": "3.12.7"
  }
 },
 "nbformat": 4,
 "nbformat_minor": 2
}
